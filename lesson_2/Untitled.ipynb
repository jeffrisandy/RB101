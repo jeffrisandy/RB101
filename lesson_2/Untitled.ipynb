{
 "cells": [
  {
   "cell_type": "code",
   "execution_count": null,
   "id": "9b339066",
   "metadata": {},
   "outputs": [],
   "source": [
    "# ask the user for two numbers\n",
    "# ask the user for an operation to perform\n",
    "# perform operation on the two number\n",
    "# output the result"
   ]
  },
  {
   "cell_type": "code",
   "execution_count": null,
   "id": "a82742b5",
   "metadata": {},
   "outputs": [],
   "source": []
  }
 ],
 "metadata": {
  "kernelspec": {
   "display_name": "Ruby 2.7.0",
   "language": "ruby",
   "name": "ruby"
  },
  "language_info": {
   "file_extension": ".rb",
   "mimetype": "application/x-ruby",
   "name": "ruby",
   "version": "2.7.0"
  }
 },
 "nbformat": 4,
 "nbformat_minor": 5
}
